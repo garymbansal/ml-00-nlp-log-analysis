{
  "nbformat": 4,
  "nbformat_minor": 0,
  "metadata": {
    "colab": {
      "name": "NLP_Pro.ipynb",
      "provenance": [],
      "include_colab_link": true
    },
    "kernelspec": {
      "name": "python3",
      "display_name": "Python 3"
    }
  },
  "cells": [
    {
      "cell_type": "markdown",
      "metadata": {
        "id": "view-in-github",
        "colab_type": "text"
      },
      "source": [
        "<a href=\"https://colab.research.google.com/github/garymbansal/nlp-log-analysis/blob/main/NLP_Pro.ipynb\" target=\"_parent\"><img src=\"https://colab.research.google.com/assets/colab-badge.svg\" alt=\"Open In Colab\"/></a>"
      ]
    },
    {
      "cell_type": "code",
      "metadata": {
        "colab": {
          "base_uri": "https://localhost:8080/"
        },
        "id": "txEDI73acmKw",
        "outputId": "b61f05dc-71cb-4f71-b339-ad13eeb52696"
      },
      "source": [
        "# Importing necessary library\r\n",
        "import nltk\r\n",
        "from nltk.tokenize import word_tokenize\r\n",
        "from nltk.corpus import stopwords\r\n",
        "import string\r\n",
        "\r\n",
        "# These two lines for download is temporary for demo \r\n",
        "# scaled version of this solution will have all dependencies installed\r\n",
        "nltk.download('stopwords')\r\n",
        "nltk.download('punkt')\r\n",
        "\r\n",
        "# Defnining process pipeline function\r\n",
        "def process_pipeline(text):\r\n",
        "  # Tokenization\r\n",
        "  tokens = word_tokenize(text)\r\n",
        "\r\n",
        "  # Removing stop-words\r\n",
        "  stop_words = set(stopwords.words('english') + list(string.punctuation))\r\n",
        "  filter_words = [word for word in tokens if word not in stop_words]\r\n",
        "\r\n",
        "  # further filteration with custom stop words\r\n",
        "  # As a scaled solution, we can save these customs stop words to a db\r\n",
        "  # like my_sql or any other and connect it to a admin dashboard panel \r\n",
        "  # where user can add/drop such words further for training/refinement.\r\n",
        "\r\n",
        "  custom_stop_words = ['server','unknown','reason','amount','everything','fine']\r\n",
        "  filter_words = [word for word in filter_words if word not in custom_stop_words]\r\n",
        "\r\n",
        "  # Aggregation\r\n",
        "  output = ' '\r\n",
        "  output = output.join(filter_words)\r\n",
        "\r\n",
        "  # Final output\r\n",
        "  print(output)\r\n",
        "\r\n",
        "# Reading local log file\r\n",
        "# This solution is going to evaluate each line for log file\r\n",
        "# This processing can be changed as per actual requirement.\r\n",
        "\r\n",
        "with open(\"/content/log1.txt\") as f:\r\n",
        "  for line in f:\r\n",
        "    process_pipeline(line.lower())\r\n",
        "\r\n",
        "\r\n"
      ],
      "execution_count": 2,
      "outputs": [
        {
          "output_type": "stream",
          "text": [
            "[nltk_data] Downloading package stopwords to /root/nltk_data...\n",
            "[nltk_data]   Package stopwords is already up-to-date!\n",
            "[nltk_data] Downloading package punkt to /root/nltk_data...\n",
            "[nltk_data]   Package punkt is already up-to-date!\n",
            "xyz3 large gc high cpu utilisation large data volume bounced app runtimexyz4 increasing memory\n"
          ],
          "name": "stdout"
        }
      ]
    }
  ]
}